{
  "nbformat": 4,
  "nbformat_minor": 0,
  "metadata": {
    "colab": {
      "provenance": [],
      "include_colab_link": true
    },
    "kernelspec": {
      "name": "python3",
      "display_name": "Python 3"
    },
    "language_info": {
      "name": "python"
    }
  },
  "cells": [
    {
      "cell_type": "markdown",
      "metadata": {
        "id": "view-in-github",
        "colab_type": "text"
      },
      "source": [
        "<a href=\"https://colab.research.google.com/github/ankurkeshri16/Task-4_Auto_Correct_Tool/blob/main/Task_4_Auto_Correct_tool.ipynb\" target=\"_parent\"><img src=\"https://colab.research.google.com/assets/colab-badge.svg\" alt=\"Open In Colab\"/></a>"
      ]
    },
    {
      "cell_type": "code",
      "execution_count": null,
      "metadata": {
        "id": "HZUQkXCU-MqZ"
      },
      "outputs": [],
      "source": [
        "# Step 1: Data Preprocessing\n",
        "import re  # regular expression\n",
        "from collections import Counter\n",
        "import numpy as np\n",
        "import pandas as pd"
      ]
    },
    {
      "cell_type": "code",
      "source": [
        "w = [] #words\n",
        "with open('sample.txt','r',encoding=\"utf8\") as f:\n",
        "    file_name_data = f.read()\n",
        "    file_name_data = file_name_data.lower()\n",
        "    w = re.findall('\\w+', file_name_data)"
      ],
      "metadata": {
        "id": "TGUE6HBSVkbo"
      },
      "execution_count": null,
      "outputs": []
    },
    {
      "cell_type": "code",
      "source": [
        "v = set(w) #vocabulary\n",
        "print(f\"The first 10 words in our dictionary are: \\n{w[0:10]}\")\n",
        "print(f\"The dictionary has {len(v)} words \")"
      ],
      "metadata": {
        "colab": {
          "base_uri": "https://localhost:8080/"
        },
        "id": "s6VwO2DzVkd_",
        "outputId": "35842699-6778-4fa4-c748-12d2fe9f4bf2"
      },
      "execution_count": null,
      "outputs": [
        {
          "output_type": "stream",
          "name": "stdout",
          "text": [
            "The first 10 words in our dictionary are: \n",
            "['a', 'ability', 'able', 'about', 'above', 'accept', 'according', 'account', 'across', 'act']\n",
            "The dictionary has 1001 words \n"
          ]
        }
      ]
    },
    {
      "cell_type": "code",
      "source": [
        "# a get_count function that returns a dictionary of word vs frequency\n",
        "def get_count(words):\n",
        "    word_count = {}\n",
        "    for word in words:\n",
        "        if word in word_count:\n",
        "            word_count[word] += 1\n",
        "        else:\n",
        "            word_count[word] = 1\n",
        "    return word_count\n",
        "\n",
        "\n",
        "word_count = get_count(w)\n",
        "print(f\"The dictionary has  {len(word_count)} key values pairs\")"
      ],
      "metadata": {
        "colab": {
          "base_uri": "https://localhost:8080/"
        },
        "id": "MM8w_OO9VkhZ",
        "outputId": "a79eb9fd-9080-4d88-bac2-78c40190e44c"
      },
      "execution_count": null,
      "outputs": [
        {
          "output_type": "stream",
          "name": "stdout",
          "text": [
            "The dictionary has  1001 key values pairs\n"
          ]
        }
      ]
    },
    {
      "cell_type": "code",
      "source": [
        "# implement get_probs function\n",
        "# to calculate the probability that any word will appear if randomly selected from the dictionary\n",
        "\n",
        "def get_probs(word_count_dict):\n",
        "    probs = {}\n",
        "    m = sum(word_count_dict.values())\n",
        "    for key in word_count_dict.keys():\n",
        "        probs[key] = word_count_dict[key] / m\n",
        "    return probs"
      ],
      "metadata": {
        "id": "DTTAZhmCVkj_"
      },
      "execution_count": null,
      "outputs": []
    },
    {
      "cell_type": "code",
      "source": [
        "# Now we implement 4 edit word functions\n",
        "\n",
        "# DeleteLetter:removes a letter from a given word\n",
        "def DeleteLetter(word):\n",
        "    delete_list = []\n",
        "    split_list = []\n",
        "    for i in range(len(word)):\n",
        "        split_list.append((word[0:i], word[i:]))\n",
        "    for a, b in split_list:\n",
        "        delete_list.append(a + b[1:])\n",
        "    return delete_list"
      ],
      "metadata": {
        "id": "7Cnv1YoKVkml"
      },
      "execution_count": null,
      "outputs": []
    },
    {
      "cell_type": "code",
      "source": [
        "delete_word_l = DeleteLetter(word=\"cans\")\n",
        "\n",
        "# SwitchLetter:swap two adjacent letters\n",
        "def SwitchLetter(word):\n",
        "    split_l = []\n",
        "    switch_l = []\n",
        "    for i in range(len(word)):\n",
        "        split_l.append((word[0:i], word[i:]))\n",
        "    switch_l = [a + b[1] + b[0] + b[2:] for a, b in split_l if len(b) >= 2]\n",
        "    return switch_l"
      ],
      "metadata": {
        "id": "O6RaDnewVko9"
      },
      "execution_count": null,
      "outputs": []
    },
    {
      "cell_type": "code",
      "source": [
        "switch_word_l = SwitchLetter(word=\"eta\")\n",
        "\n",
        "# replace_letter: changes one letter to another\n",
        "def replace_letter(word):\n",
        "    split_l = []\n",
        "    replace_list = []\n",
        "    for i in range(len(word)):\n",
        "        split_l.append((word[0:i], word[i:]))\n",
        "    alphabets = 'abcdefghijklmnopqrstuvwxyz'\n",
        "    replace_list = [a + l + (b[1:] if len(b) > 1 else '') for a, b in split_l if b for l in alphabets]\n",
        "    return replace_list"
      ],
      "metadata": {
        "id": "GkMAtGdPWGLl"
      },
      "execution_count": null,
      "outputs": []
    },
    {
      "cell_type": "code",
      "source": [
        "replace_l = replace_letter(word='can')\n",
        "\n",
        "# insert_letter: adds additional characters\n",
        "def insert_letter(word):\n",
        "    split_l = []\n",
        "    insert_list = []\n",
        "    for i in range(len(word) + 1):\n",
        "        split_l.append((word[0:i], word[i:]))\n",
        "    letters = 'abcdefghijklmnopqrstuvwxyz'\n",
        "    insert_list = [a + l + b for a, b in split_l for l in letters]\n",
        "    # print(split_l)\n",
        "    return insert_list"
      ],
      "metadata": {
        "id": "79cWjqNWWGNz"
      },
      "execution_count": null,
      "outputs": []
    },
    {
      "cell_type": "code",
      "source": [
        "# combining the edits\n",
        "# switch operation optional\n",
        "def edit_one_letter(word, allow_switches=True):\n",
        "    edit_set1 = set()\n",
        "    edit_set1.update(DeleteLetter(word))\n",
        "    if allow_switches:\n",
        "        edit_set1.update(SwitchLetter(word))\n",
        "    edit_set1.update(replace_letter(word))\n",
        "    edit_set1.update(insert_letter(word))\n",
        "    return edit_set1"
      ],
      "metadata": {
        "id": "Wdhk97c8WGQa"
      },
      "execution_count": null,
      "outputs": []
    },
    {
      "cell_type": "code",
      "source": [
        "# edit two letters\n",
        "def edit_two_letters(word, allow_switches=True):\n",
        "    edit_set2 = set()\n",
        "    edit_one = edit_one_letter(word, allow_switches=allow_switches)\n",
        "    for w in edit_one:\n",
        "        if w:\n",
        "            edit_two = edit_one_letter(w, allow_switches=allow_switches)\n",
        "            edit_set2.update(edit_two)\n",
        "    return edit_set2\n"
      ],
      "metadata": {
        "id": "4MnPa0VFWGTA"
      },
      "execution_count": null,
      "outputs": []
    },
    {
      "cell_type": "code",
      "source": [
        "# get corrected word\n",
        "def get_corrections(word, probs, vocab, n=2):\n",
        "    suggested_word = []\n",
        "    best_suggestion = []\n",
        "    suggested_word = list(\n",
        "        (word in vocab and word) or edit_one_letter(word).intersection(vocab) or edit_two_letters(word).intersection(\n",
        "            vocab))\n",
        "    best_suggestion = [[s, probs[s]] for s in list(reversed(suggested_word))]\n",
        "    return best_suggestion"
      ],
      "metadata": {
        "id": "pbohQSCbWPLG"
      },
      "execution_count": null,
      "outputs": []
    },
    {
      "cell_type": "code",
      "source": [
        "my_word = input(\"Enter any word:\")\n",
        "probs = get_probs(word_count)\n",
        "tmp_corrections = get_corrections(my_word, probs, v, 2)\n",
        "for i, word_prob in enumerate(tmp_corrections):\n",
        "    print(f\"word {i}: {word_prob[0]}, probability {word_prob[1]:.6f}\")"
      ],
      "metadata": {
        "colab": {
          "base_uri": "https://localhost:8080/"
        },
        "id": "VruxELLUWPNT",
        "outputId": "d46ff3a5-bd8d-4ee6-fbdb-0c9dc3f2fa02"
      },
      "execution_count": null,
      "outputs": [
        {
          "output_type": "stream",
          "name": "stdout",
          "text": [
            "Enter any word:agre\n",
            "word 0: age, probability 0.000999\n",
            "word 1: agree, probability 0.000999\n"
          ]
        }
      ]
    },
    {
      "cell_type": "code",
      "source": [],
      "metadata": {
        "id": "BFpAZr9GWPPr"
      },
      "execution_count": null,
      "outputs": []
    },
    {
      "cell_type": "code",
      "source": [],
      "metadata": {
        "id": "bqw_eBl0WPSB"
      },
      "execution_count": null,
      "outputs": []
    }
  ]
}